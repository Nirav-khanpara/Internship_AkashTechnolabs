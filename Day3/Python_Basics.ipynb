{
 "cells": [
  {
   "cell_type": "code",
   "execution_count": 2,
   "metadata": {},
   "outputs": [
    {
     "name": "stdout",
     "output_type": "stream",
     "text": [
      "Enter 1 number : 12\n",
      "Enter 2 number : 13\n",
      "Enter 3 number : 34\n",
      "Enter 4 number : 52\n",
      "Enter 5 number : 4\n",
      "Average :  23.0\n"
     ]
    }
   ],
   "source": [
    "#1. Calculate average of 5 numbers.\n",
    "\n",
    "lst=[]\n",
    "for i in range(5):\n",
    "    lst.append(int(input(f'Enter {i+1} number : ')))\n",
    "\n",
    "s=0\n",
    "for i in lst:\n",
    "    s+=i\n",
    "print('Average : ',s/5)"
   ]
  },
  {
   "cell_type": "code",
   "execution_count": 3,
   "metadata": {},
   "outputs": [
    {
     "name": "stdout",
     "output_type": "stream",
     "text": [
      "enter a number : 78\n",
      "Even\n"
     ]
    }
   ],
   "source": [
    "# 2.  Check whether number is even or odd.\n",
    "\n",
    "n1 = int(input('enter a number : '))\n",
    "\n",
    "if n1%2==0:\n",
    "    print('Even')\n",
    "else:\n",
    "    print('Odd')"
   ]
  },
  {
   "cell_type": "code",
   "execution_count": 10,
   "metadata": {},
   "outputs": [
    {
     "name": "stdout",
     "output_type": "stream",
     "text": [
      "Enter year : 2024\n",
      "2024  is a leap year\n"
     ]
    }
   ],
   "source": [
    "# 3.  Take a year and check whether it is leap year or not\n",
    "\n",
    "year = int(input('Enter year : '))\n",
    "if (year % 4) == 0:\n",
    "    if (year % 100) == 0:\n",
    "        if (year % 400) == 0:\n",
    "            print(year,\" is a leap year\")\n",
    "        else:\n",
    "            print(year,\" is not a leap year\")\n",
    "    else:\n",
    "        print(year,\" is a leap year\")\n",
    "else:\n",
    "    print(year,\" is a leap year\")"
   ]
  },
  {
   "cell_type": "code",
   "execution_count": 21,
   "metadata": {},
   "outputs": [
    {
     "name": "stdout",
     "output_type": "stream",
     "text": [
      "Enter any number13\n",
      "Positive\n",
      "Enter any number0\n",
      "Zero\n",
      "Enter any number-23\n",
      "Negative\n"
     ]
    }
   ],
   "source": [
    "# 4.  Take a number and check whether it is zero, positive or negative.\n",
    "\n",
    "for _ in range(3):\n",
    "    n2 = int(input('Enter any number'))\n",
    "    if n2<0:\n",
    "        print('Negative')\n",
    "    elif n2>0:\n",
    "        print('Positive')\n",
    "    else:\n",
    "        print('Zero')"
   ]
  },
  {
   "cell_type": "code",
   "execution_count": 12,
   "metadata": {},
   "outputs": [
    {
     "name": "stdout",
     "output_type": "stream",
     "text": [
      "Enter 1st number12\n",
      "Enter 2st number21\n",
      "21 is maximum\n"
     ]
    }
   ],
   "source": [
    "# 5.  Take 2 numbers and display greatest number. (Also check equal number condition)\n",
    "\n",
    "n1 = int(input('Enter 1st number'))\n",
    "n2 = int(input('Enter 2st number'))\n",
    "\n",
    "if n1>n2:\n",
    "    print(n1,'is maximum')\n",
    "elif n1<n2:\n",
    "    print(n2,'is maximum')    \n",
    "else:\n",
    "    print('equal')"
   ]
  },
  {
   "cell_type": "code",
   "execution_count": 17,
   "metadata": {},
   "outputs": [
    {
     "name": "stdout",
     "output_type": "stream",
     "text": [
      "Enter any number5\n",
      "Factorial of  5  is :  120\n"
     ]
    }
   ],
   "source": [
    "# 6.  Take a number and find factorial of that number.\n",
    "\n",
    "n1 = int(input('Enter any number'))\n",
    "fact=1\n",
    "for i in range(n1,0,-1):\n",
    "    fact*=i\n",
    "print('Factorial of ',n1,' is : ',fact)    "
   ]
  },
  {
   "cell_type": "code",
   "execution_count": 18,
   "metadata": {},
   "outputs": [
    {
     "name": "stdout",
     "output_type": "stream",
     "text": [
      "Enter 1st number12\n",
      "Enter 2st number87\n",
      "Before Swapping\n",
      "12 87\n",
      "After Swapping\n",
      "87 12\n"
     ]
    }
   ],
   "source": [
    "# 7.  Write a program to swap 2 numbers using third variable.\n",
    "\n",
    "n1 = int(input('Enter 1st number'))\n",
    "n2 = int(input('Enter 2st number'))\n",
    "print('Before Swapping')\n",
    "print(n1,n2)\n",
    "\n",
    "temp=n1\n",
    "n1=n2\n",
    "n2=temp\n",
    "\n",
    "print('After Swapping')\n",
    "print(n1,n2)"
   ]
  },
  {
   "cell_type": "code",
   "execution_count": 19,
   "metadata": {},
   "outputs": [
    {
     "name": "stdout",
     "output_type": "stream",
     "text": [
      "Enter 1st number43\n",
      "Enter 2st number76\n",
      "43 is minimum\n"
     ]
    }
   ],
   "source": [
    "# 8.  Take 2 numbers and find smallest number.\n",
    "\n",
    "n1 = int(input('Enter 1st number'))\n",
    "n2 = int(input('Enter 2st number'))\n",
    "\n",
    "if n1>n2:\n",
    "    print(n2,'is minimum')\n",
    "elif n1<n2:\n",
    "    print(n1,'is minimum')    \n",
    "else:\n",
    "    print('equal')"
   ]
  },
  {
   "cell_type": "code",
   "execution_count": 5,
   "metadata": {},
   "outputs": [
    {
     "name": "stdout",
     "output_type": "stream",
     "text": [
      "enter a number : 43\n",
      "Odd\n"
     ]
    }
   ],
   "source": [
    "# 9.  Take a number check if a number is less than 100 or not. If it is less than 100 then check if it is odd or even.\n",
    "\n",
    "n1 = int(input('enter a number : '))\n",
    "if n1>100:\n",
    "    print(n1,' is Greater than 100')\n",
    "else:\n",
    "    if n1%2==0:\n",
    "        print('Even')\n",
    "    else:\n",
    "        print('Odd')"
   ]
  },
  {
   "cell_type": "code",
   "execution_count": 9,
   "metadata": {},
   "outputs": [
    {
     "name": "stdout",
     "output_type": "stream",
     "text": [
      "enter a number : 4\n",
      "16\n"
     ]
    }
   ],
   "source": [
    "# 10.  Take a number to print the square of a number if it is less than 10.\n",
    "\n",
    "n1 = int(input('enter a number : '))\n",
    "if n1<10:\n",
    "    print(n1**2)\n",
    "else:\n",
    "    print(n1,' is Greater than 10')"
   ]
  },
  {
   "cell_type": "code",
   "execution_count": 13,
   "metadata": {},
   "outputs": [
    {
     "name": "stdout",
     "output_type": "stream",
     "text": [
      "enter a number : 123\n",
      "Positive\n",
      "=========\n",
      "enter a number : -54\n",
      "Negative\n",
      "=========\n",
      "enter a number : 0\n",
      "Zero\n",
      "=========\n"
     ]
    }
   ],
   "source": [
    "# 11.  Take a number and check whether it is zero, positive or negative using nested IF…ELSE statement.\n",
    "\n",
    "for _ in range(3):\n",
    "    n1 = int(input('enter a number : '))\n",
    "    if n1!=0:\n",
    "        if n1>0:\n",
    "            print('Positive')\n",
    "        else:\n",
    "            print('Negative')\n",
    "    else:\n",
    "        print('Zero')\n",
    "        \n",
    "    print('=========')"
   ]
  },
  {
   "cell_type": "code",
   "execution_count": 14,
   "metadata": {},
   "outputs": [
    {
     "name": "stdout",
     "output_type": "stream",
     "text": [
      "Enter 1st number43\n",
      "Enter 2st number55\n",
      "Enter 3st number72\n",
      "72 is Maximum\n"
     ]
    }
   ],
   "source": [
    "# 12.  Take 3 numbers and find greatest number using nested IF….ELSE statement.\n",
    "\n",
    "n1 = int(input('Enter 1st number'))\n",
    "n2 = int(input('Enter 2st number'))\n",
    "n3 = int(input('Enter 3st number'))\n",
    "\n",
    "if n1>n2:\n",
    "    if n1>n3:\n",
    "        print(n1,'is Maximum')\n",
    "    else:\n",
    "        print(n3,'is Maximum')\n",
    "else:\n",
    "    if n2>n3:\n",
    "        print(n2,'is Maximum')\n",
    "    else:\n",
    "        print(n3,'is Maximum')"
   ]
  },
  {
   "cell_type": "code",
   "execution_count": 15,
   "metadata": {},
   "outputs": [
    {
     "name": "stdout",
     "output_type": "stream",
     "text": [
      "Enter 1st number32\n",
      "Enter 2st number-2\n",
      "Enter 3st number4\n",
      "-2  is Smallest\n"
     ]
    }
   ],
   "source": [
    "# 13.  Take 3 numbers and find smallest number using logical operator.\n",
    "\n",
    "n1 = int(input('Enter 1st number'))\n",
    "n2 = int(input('Enter 2st number'))\n",
    "n3 = int(input('Enter 3st number'))\n",
    "\n",
    "if n1<n2 and n1<n3:\n",
    "    print(n1,' is Smallest')\n",
    "elif n2<n3:\n",
    "    print(n2,' is Smallest')\n",
    "else:\n",
    "    print(n3,' is Smallest')"
   ]
  },
  {
   "cell_type": "code",
   "execution_count": 16,
   "metadata": {},
   "outputs": [
    {
     "name": "stdout",
     "output_type": "stream",
     "text": [
      "Enter 1st number32\n",
      "Enter 2st number55\n",
      "Before Swapping\n",
      "32 55\n",
      "After Swapping\n",
      "55 32\n"
     ]
    }
   ],
   "source": [
    "# 14.  Write a program to swap 2 numbers without taking third variable.\n",
    "\n",
    "a = int(input('Enter 1st number'))\n",
    "b = int(input('Enter 2st number'))\n",
    "\n",
    "print('Before Swapping')\n",
    "print(a,b)\n",
    "\n",
    "a=a+b\n",
    "b=a-b\n",
    "a=a-b\n",
    "\n",
    "print('After Swapping')\n",
    "print(a,b)"
   ]
  },
  {
   "cell_type": "code",
   "execution_count": 20,
   "metadata": {},
   "outputs": [
    {
     "name": "stdout",
     "output_type": "stream",
     "text": [
      "Enter starting number : 23\n",
      "Enter ending number : 3\n",
      "23\n",
      "20\n",
      "17\n",
      "14\n",
      "11\n",
      "8\n",
      "5\n"
     ]
    }
   ],
   "source": [
    "# 15.  Take starting number and ending number from the user and print following series. ex. - 9,6,3,0\n",
    "\n",
    "a = int(input('Enter starting number : '))\n",
    "b = int(input('Enter ending number : '))\n",
    "\n",
    "for i in range(a,b-1,-3):\n",
    "    print(i)"
   ]
  }
 ],
 "metadata": {
  "kernelspec": {
   "display_name": "Python 3",
   "language": "python",
   "name": "python3"
  },
  "language_info": {
   "codemirror_mode": {
    "name": "ipython",
    "version": 3
   },
   "file_extension": ".py",
   "mimetype": "text/x-python",
   "name": "python",
   "nbconvert_exporter": "python",
   "pygments_lexer": "ipython3",
   "version": "3.7.4"
  }
 },
 "nbformat": 4,
 "nbformat_minor": 2
}
