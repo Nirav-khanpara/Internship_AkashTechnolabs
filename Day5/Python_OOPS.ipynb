{
 "cells": [
  {
   "cell_type": "code",
   "execution_count": 1,
   "metadata": {},
   "outputs": [
    {
     "name": "stdout",
     "output_type": "stream",
     "text": [
      "Sum of given 3 numbers is : 20\n"
     ]
    }
   ],
   "source": [
    "'''1. Create a class cal1 that will calculate sum of three numbers. Create\n",
    "setdata() method which has three parameters that contain numbers.\n",
    "Create display() method that will calculate sum and display sum.'''\n",
    "\n",
    "\n",
    "class cal1:\n",
    "    num1=''\n",
    "    num2=''\n",
    "    num3=''\n",
    "    def setdata(self,num1,num2,num3):\n",
    "        self.num1=num1\n",
    "        self.num2=num2\n",
    "        self.num3=num3\n",
    "        \n",
    "    def display(self):\n",
    "        s = self.num1+self.num2+self.num3\n",
    "        print('Sum of given 3 numbers is :',s)\n",
    "\n",
    "obj_cal1 = cal1()\n",
    "obj_cal1.setdata(12,3,5)\n",
    "obj_cal1.display()"
   ]
  },
  {
   "cell_type": "code",
   "execution_count": 2,
   "metadata": {},
   "outputs": [
    {
     "name": "stdout",
     "output_type": "stream",
     "text": [
      "Area of circle is : 78.53981633974483\n"
     ]
    }
   ],
   "source": [
    "'''2. Create a class cal2 that will calculate area of a circle. Create setdata()\n",
    "method that should take radius from the user. Create area() method\n",
    "that will calculate area . Create display() method that will display area .\n",
    "'''\n",
    "import math\n",
    "\n",
    "class cal2:\n",
    "    r=''\n",
    "    a=''\n",
    "    def setdata(self,radius):\n",
    "        self.r=radius\n",
    "        \n",
    "    def area(self):\n",
    "        self.a = math.pi * self.r*self.r\n",
    "        \n",
    "    def display(self):\n",
    "        print('Area of circle is :',self.a)\n",
    "\n",
    "obj_cal2 = cal2()\n",
    "obj_cal2.setdata(5)\n",
    "obj_cal2.area()\n",
    "obj_cal2.display()"
   ]
  },
  {
   "cell_type": "code",
   "execution_count": 3,
   "metadata": {},
   "outputs": [
    {
     "name": "stdout",
     "output_type": "stream",
     "text": [
      "Interest is : 2000.0\n"
     ]
    }
   ],
   "source": [
    "'''3. Create a class cal3 that will calculate simple interest. Create\n",
    "constructor method which has three parameters .Create calInterest()\n",
    "method that will calculate Interest . Create display() method that will\n",
    "display Interest.'''\n",
    "\n",
    "\n",
    "class cal3:\n",
    "    p,r,n = '','',''\n",
    "    i=''\n",
    "    def __init__(self,p,r,n):\n",
    "        self.p=p\n",
    "        self.r=r\n",
    "        self.n=n\n",
    "        \n",
    "    def calInterest(self):\n",
    "        self.i = self.p*self.r*self.n / 100\n",
    "        \n",
    "    def display(self):\n",
    "        print('Interest is :',self.i)\n",
    "\n",
    "obj_cal3 = cal3(20000,5,2)\n",
    "obj_cal3.calInterest()\n",
    "obj_cal3.display()"
   ]
  },
  {
   "cell_type": "code",
   "execution_count": 4,
   "metadata": {},
   "outputs": [
    {
     "name": "stdout",
     "output_type": "stream",
     "text": [
      "Square is : 81\n"
     ]
    }
   ],
   "source": [
    "'''4. Create a class cal4 that will calculate square of a number. Create\n",
    "setdata() method which has one parameters that contain number.\n",
    "Create display() method that will calculate sum.(Function should\n",
    "return value).'''\n",
    "\n",
    "\n",
    "class cal4:\n",
    "    n=''\n",
    "    sq=''\n",
    "    def setdata(self,number):\n",
    "        self.n=number\n",
    "        \n",
    "    def display(self):\n",
    "        self.sq = self.n ** 2\n",
    "        return self.sq\n",
    "\n",
    "\n",
    "obj_cal4 = cal4()\n",
    "obj_cal4.setdata(9)\n",
    "square = obj_cal4.display()\n",
    "\n",
    "print('Square is : ',end='')\n",
    "print(square)"
   ]
  },
  {
   "cell_type": "code",
   "execution_count": 5,
   "metadata": {},
   "outputs": [
    {
     "name": "stdout",
     "output_type": "stream",
     "text": [
      "This method is written in Parent Class\n",
      "------\n",
      "This method is written in Child Class\n",
      "Name : Keyur\n",
      "Designation : Software Development Engineer\n",
      "Salary : 123456\n"
     ]
    }
   ],
   "source": [
    "'''5. Consider an employee class, which contains fields such as name and\n",
    "designation. And a subclass, which contains a field salary. Write a\n",
    "program for inheriting this relation.'''\n",
    "\n",
    "\n",
    "class employee:\n",
    "    name='Keyur'\n",
    "    designation='Software Development Engineer'\n",
    "    \n",
    "    def parentmethod(self):\n",
    "        print('This method is written in Parent Class')\n",
    "        \n",
    "class sub_employee(employee):\n",
    "    salary = 123456\n",
    "    \n",
    "    def childmethod(self):\n",
    "        print('This method is written in Child Class')\n",
    "        print('Name :',self.name)\n",
    "        print('Designation :',self.designation)\n",
    "        print('Salary :',self.salary)\n",
    "                \n",
    "        \n",
    "obj_emp = sub_employee()\n",
    "obj_emp.parentmethod()\n",
    "print('------')\n",
    "obj_emp.childmethod()"
   ]
  },
  {
   "cell_type": "code",
   "execution_count": 6,
   "metadata": {},
   "outputs": [
    {
     "name": "stdout",
     "output_type": "stream",
     "text": [
      "Area Of This Rectangle is :  96\n"
     ]
    }
   ],
   "source": [
    "'''6. Create a class cal5 that will calculate area of a rectangle. Create\n",
    "constructor method which has two parameters .Create calArea()\n",
    "method that will calculate area of a rectangle. Create display() method\n",
    "that will display area of a rectangle.\n",
    "'''\n",
    "\n",
    "class cal5:\n",
    "    def __init__(self,length,width):\n",
    "        self.length = length\n",
    "        self.width = width\n",
    "    def calArea(self):\n",
    "        self.area = self.length * self.width\n",
    "    def display(self):\n",
    "        print(\"Area Of This Rectangle is : \",self.area)\n",
    "        \n",
    "obj_cal5 = cal5(8,12)\n",
    "obj_cal5.calArea()\n",
    "obj_cal5.display()"
   ]
  },
  {
   "cell_type": "code",
   "execution_count": 7,
   "metadata": {},
   "outputs": [
    {
     "name": "stdout",
     "output_type": "stream",
     "text": [
      "Enter Length of Square : 6\n",
      "Area Of square : 36\n"
     ]
    }
   ],
   "source": [
    "'''7. Create a class cal6 that will calculate area of a square. Create setdata()\n",
    "method that should take length from the user. Create area() method\n",
    "that will calculate area . Create display() method that will display area .'''\n",
    "\n",
    "class cal6:\n",
    "    def setdata(self,length):\n",
    "        self.length = length\n",
    "    def area(self):\n",
    "        self.ar = self.length ** 2\n",
    "    def display(self):\n",
    "        print(\"Area Of square :\",self.ar)\n",
    "\n",
    "obj_cal6 = cal6()\n",
    "l = int(input(\"Enter Length of Square : \"))\n",
    "obj_cal6.setdata(l)\n",
    "obj_cal6.area()\n",
    "obj_cal6.display()"
   ]
  },
  {
   "cell_type": "code",
   "execution_count": 8,
   "metadata": {},
   "outputs": [
    {
     "name": "stdout",
     "output_type": "stream",
     "text": [
      "Title Of Book : Deep Learning\n",
      "Number of pages : 1234\n",
      "---------------------\n",
      "Title Of Book : Django 1 to 100\n",
      "Time taken for playing(hours) : 9.5\n"
     ]
    }
   ],
   "source": [
    "'''8. Write a program with use of inheritance: Define a class publisher that\n",
    "stores the name of the title. Derive two classes book and tape, which\n",
    "inherit publisher. Book class contains member data called page no and\n",
    "tape class contain time for playing. Define functions in the appropriate\n",
    "classes to get and print the details.'''\n",
    "\n",
    "class publisher:\n",
    "    def __init__(self,title):\n",
    "        self.title = title\n",
    "\n",
    "class book(publisher):\n",
    "    def __init__(self,title,pages):\n",
    "        super().__init__(title)\n",
    "        self.pages = pages\n",
    "    def display(self):\n",
    "        print(\"Title Of Book :\",self.title)\n",
    "        print(\"Number of pages :\",self.pages)\n",
    "        \n",
    "class tape(publisher):\n",
    "    def __init__(self,title,time):\n",
    "        super().__init__(title)\n",
    "        self.time = time\n",
    "    def display(self):\n",
    "        print(\"Title Of Book :\",self.title)\n",
    "        print(\"Time taken for playing(hours) :\",self.time)\n",
    "\n",
    "bk = book(\"Deep Learning\",1234)\n",
    "bk.display()\n",
    "print(\"---------------------\")\n",
    "tp = tape('Django 1 to 100',9.5)\n",
    "tp.display()"
   ]
  },
  {
   "cell_type": "code",
   "execution_count": 9,
   "metadata": {},
   "outputs": [
    {
     "name": "stdout",
     "output_type": "stream",
     "text": [
      "----Customer Details----\n",
      "Customer Id : 11\n",
      "Customer Name : Nick\n",
      "Mobile No : XXXXXX9876\n",
      "----Scheme details----\n",
      "Scheme_Id : 4032\n",
      "Scheme_Name ; Free messages\n",
      "Outgoing_rate : 1.5\n",
      "Message_charge : 0\n"
     ]
    }
   ],
   "source": [
    "'''9. Create a class called scheme with scheme_id,\n",
    "scheme_name,outgoing_rate, and message_charge. Derive customer\n",
    "class form scheme and include cust_id, name and mobile_no\n",
    "data.Define necessary functions to read and display data.\n",
    "'''\n",
    "\n",
    "class scheme:\n",
    "    def __init__(self,scheme_id,scheme_name,outgoing_rate,message_charge):\n",
    "        self.scheme_id = scheme_id\n",
    "        self.scheme_name = scheme_name\n",
    "        self.outgoing_rate = outgoing_rate\n",
    "        self.message_charge = message_charge\n",
    "    def display(self):\n",
    "        print(\"----Scheme details----\")\n",
    "        print(\"Scheme_Id :\",self.scheme_id)\n",
    "        print(\"Scheme_Name ;\",self.scheme_name)\n",
    "        print(\"Outgoing_rate :\",self.outgoing_rate)\n",
    "        print(\"Message_charge :\",self.message_charge)\n",
    "class customer(scheme):\n",
    "    def __init__(self,cust_id,name,mobile_no,scheme_id,scheme_name,outgoing_rate,message_charge):\n",
    "        super().__init__(scheme_id,scheme_name,outgoing_rate,message_charge)\n",
    "        self.cust_id = cust_id\n",
    "        self.name = name\n",
    "        self.mobile_no = mobile_no\n",
    "    \n",
    "    def display(self):\n",
    "        print(\"----Customer Details----\")\n",
    "        print('Customer Id :',self.cust_id)\n",
    "        print('Customer Name :',self.name)\n",
    "        print(\"Mobile No :\",self.mobile_no)\n",
    "        super().display()\n",
    "        \n",
    "ct = customer(11,'Nick','XXXXXX9876',4032,'Free messages',1.5,0)\n",
    "ct.display()"
   ]
  },
  {
   "cell_type": "code",
   "execution_count": 10,
   "metadata": {},
   "outputs": [
    {
     "name": "stdout",
     "output_type": "stream",
     "text": [
      "Sum : 16\n",
      "Sub : 10\n",
      "Mul : 39\n",
      "Div : 4.333333333333333\n"
     ]
    }
   ],
   "source": [
    "'''10. Create a arith class. The class should have a parameterized constructor\n",
    "and methods to add, subtract and multiply two numbers and to return\n",
    "the answers'''\n",
    "\n",
    "class arith:\n",
    "    def __init__(self,v1,v2):\n",
    "        self.v1 = v1\n",
    "        self.v2 = v2\n",
    "    def sum2(self):\n",
    "        return(self.v1+self.v2)\n",
    "    def sub(self):\n",
    "        return(self.v1-self.v2)\n",
    "    def mul(self):\n",
    "        return(self.v1*self.v2)\n",
    "    def div(self):\n",
    "        return(self.v1/self.v2)\n",
    "\n",
    "obj = arith(13,3)\n",
    "print(\"Sum :\",obj.sum2())\n",
    "print(\"Sub :\",obj.sub())\n",
    "print(\"Mul :\",obj.mul())\n",
    "print(\"Div :\",obj.div())"
   ]
  },
  {
   "cell_type": "code",
   "execution_count": null,
   "metadata": {},
   "outputs": [],
   "source": []
  }
 ],
 "metadata": {
  "kernelspec": {
   "display_name": "Python 3",
   "language": "python",
   "name": "python3"
  },
  "language_info": {
   "codemirror_mode": {
    "name": "ipython",
    "version": 3
   },
   "file_extension": ".py",
   "mimetype": "text/x-python",
   "name": "python",
   "nbconvert_exporter": "python",
   "pygments_lexer": "ipython3",
   "version": "3.7.4"
  }
 },
 "nbformat": 4,
 "nbformat_minor": 2
}
